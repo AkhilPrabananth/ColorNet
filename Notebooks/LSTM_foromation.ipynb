{
 "cells": [
  {
   "cell_type": "code",
   "execution_count": 1,
   "id": "74b3213d-1add-46ae-9e66-97b51888d5c8",
   "metadata": {},
   "outputs": [],
   "source": [
    "import torch\n",
    "from torch import nn"
   ]
  },
  {
   "cell_type": "code",
   "execution_count": 2,
   "id": "154a1e34-f834-4708-82db-e9e797e0b76d",
   "metadata": {},
   "outputs": [],
   "source": [
    "tensor1=torch.rand((3,3))\n",
    "tensor2=torch.rand((3,3))"
   ]
  },
  {
   "cell_type": "code",
   "execution_count": 3,
   "id": "722c3012-7692-43ca-a1fd-14bd28e4cde7",
   "metadata": {},
   "outputs": [
    {
     "data": {
      "text/plain": [
       "tensor([[0.3560, 0.9021, 0.0221],\n",
       "        [0.3640, 0.4830, 0.8612],\n",
       "        [0.0660, 0.9377, 0.4393]])"
      ]
     },
     "execution_count": 3,
     "metadata": {},
     "output_type": "execute_result"
    }
   ],
   "source": [
    "tensor1"
   ]
  },
  {
   "cell_type": "code",
   "execution_count": 4,
   "id": "4d6f22f5-9c83-4f80-89e9-83bc59ee46b3",
   "metadata": {},
   "outputs": [
    {
     "data": {
      "text/plain": [
       "tensor([[0.6172, 0.1439, 0.9534],\n",
       "        [0.6475, 0.3531, 0.9091],\n",
       "        [0.9373, 0.5034, 0.1555]])"
      ]
     },
     "execution_count": 4,
     "metadata": {},
     "output_type": "execute_result"
    }
   ],
   "source": [
    "tensor2"
   ]
  },
  {
   "cell_type": "code",
   "execution_count": 5,
   "id": "b6e6d9ea-02ba-4a2e-b9d9-af16e3a132b1",
   "metadata": {},
   "outputs": [
    {
     "data": {
      "text/plain": [
       "tensor([[0.2197, 0.1298, 0.0210],\n",
       "        [0.2357, 0.1705, 0.7829],\n",
       "        [0.0619, 0.4720, 0.0683]])"
      ]
     },
     "execution_count": 5,
     "metadata": {},
     "output_type": "execute_result"
    }
   ],
   "source": [
    "tensor1*tensor2"
   ]
  },
  {
   "cell_type": "markdown",
   "id": "813e1b79-525d-4080-bf45-ec3749312576",
   "metadata": {},
   "source": [
    "#### LTR => Long-Term to remember\n",
    "#### STM => Short Term Memory\n",
    "#### LTM => Long Term Memory"
   ]
  },
  {
   "cell_type": "code",
   "execution_count": 6,
   "id": "137f3aa7-c371-4623-b6b3-eec024fe8775",
   "metadata": {},
   "outputs": [],
   "source": [
    "class NDIM_LSTM(nn.Module):\n",
    "    \n",
    "    def __init__(self,size):\n",
    "        super().__init__()\n",
    "\n",
    "        self.percent_ltr_input=nn.Parameter(torch.empty(size).normal_(mean=0.0,std=1.0),requires_grad=True)\n",
    "        self.percent_ltr_stm_wt=nn.Parameter(torch.empty(size).normal_(mean=0.0,std=1.0),requires_grad=True)\n",
    "        self.b1=nn.Parameter(torch.tensor(0.),requires_grad=False)\n",
    "\n",
    "        self.percent_potential_ltm_stm_wt=nn.Parameter(torch.empty(size).normal_(mean=0.0,std=1.0),requires_grad=True)\n",
    "        self.percent_potential_ltm_input=nn.Parameter(torch.empty(size).normal_(mean=0.0,std=1.0),requires_grad=True)\n",
    "        self.b2=nn.Parameter(torch.tensor(0.),requires_grad=False)\n",
    "        \n",
    "        self.potential_ltm_stm_wt=nn.Parameter(torch.empty(size).normal_(mean=0.0,std=1.0),requires_grad=True)\n",
    "        self.potential_ltm_input=nn.Parameter(torch.empty(size).normal_(mean=0.0,std=1.0),requires_grad=True)\n",
    "        self.b3=nn.Parameter(torch.tensor(0.),requires_grad=False)\n",
    "        \n",
    "        self.output_stm_contri_stm_wt=nn.Parameter(torch.empty(size).normal_(mean=0.0,std=1.0),requires_grad=True)\n",
    "        self.output_stm_contri_input=nn.Parameter(torch.empty(size).normal_(mean=0.0,std=1.0),requires_grad=True)\n",
    "        self.b4=nn.Parameter(torch.tensor(0.),requires_grad=False)\n",
    "\n",
    "    def lstm_unit(self,input_value,long_memory,short_memory):\n",
    "        \n",
    "        long_remember_percent=torch.sigmoid((input_value*self.percent_ltr_input)+\n",
    "                                            (self.percent_ltr_stm_wt*short_memory)+\n",
    "                                            self.b1)\n",
    "        \n",
    "        potential_remember_percent=torch.sigmoid((input_value*self.percent_potential_ltm_input)+\n",
    "                                                 (short_memory*self.percent_potential_ltm_stm_wt)+\n",
    "                                                  self.b2)\n",
    "\n",
    "        potential_memory = torch.tanh((short_memory * self.potential_ltm_stm_wt) + \n",
    "                                  (input_value * self.potential_ltm_input) + \n",
    "                                  self.b3)\n",
    "        \n",
    "        updated_long_memory = ((long_memory * long_remember_percent) + \n",
    "               (potential_remember_percent * potential_memory))\n",
    "\n",
    "        output_percent = torch.sigmoid((short_memory * self.output_stm_contri_stm_wt) + \n",
    "                                       (input_value * self.output_stm_contri_input) + \n",
    "                                       self.b4)         \n",
    "        \n",
    "        updated_short_memory = torch.tanh(updated_long_memory) * output_percent\n",
    "\n",
    "        return([updated_long_memory, updated_short_memory])\n",
    "\n",
    "    def forward(self, input, long_memory=0, short_memory=0): \n",
    "        \n",
    "        return self.lstm_unit(input,long_memory,short_memory)"
   ]
  },
  {
   "cell_type": "code",
   "execution_count": 7,
   "id": "6cd88e8b-8fe1-443d-9b41-60e34cc7f63e",
   "metadata": {},
   "outputs": [],
   "source": [
    "input_test=torch.rand((5,64,64,64))"
   ]
  },
  {
   "cell_type": "code",
   "execution_count": 10,
   "id": "dd486434-831e-4fe7-a4ea-05a8250970ca",
   "metadata": {},
   "outputs": [],
   "source": [
    "model=NDIM_LSTM((64,64,64))"
   ]
  },
  {
   "cell_type": "code",
   "execution_count": 11,
   "id": "0d667a69-ada6-4819-8b49-3c98df034299",
   "metadata": {},
   "outputs": [
    {
     "name": "stdout",
     "output_type": "stream",
     "text": [
      "torch.Size([64, 64, 64]) torch.Size([64, 64, 64])\n",
      "torch.Size([64, 64, 64]) torch.Size([64, 64, 64])\n",
      "torch.Size([64, 64, 64]) torch.Size([64, 64, 64])\n",
      "torch.Size([64, 64, 64]) torch.Size([64, 64, 64])\n",
      "torch.Size([64, 64, 64]) torch.Size([64, 64, 64])\n"
     ]
    }
   ],
   "source": [
    "ltm=0\n",
    "stm=0\n",
    "for i in input_test:\n",
    "    ltm,stm=model(i,ltm,stm)\n",
    "    print(stm.detach().shape, ltm.detach().shape)"
   ]
  },
  {
   "cell_type": "code",
   "execution_count": 12,
   "id": "896e1f76-375c-4759-b800-a0ccf0e3756b",
   "metadata": {},
   "outputs": [
    {
     "data": {
      "text/plain": [
       "tensor([[[ 4.5520e-01,  1.4852e-02,  6.3607e-02,  ...,  2.6028e-01,\n",
       "           7.8754e-01, -4.1256e-01],\n",
       "         [ 2.4917e-02,  2.5937e-01,  6.7378e-02,  ...,  9.8078e-02,\n",
       "          -4.6319e-02,  4.2936e-02],\n",
       "         [ 4.5282e-02,  3.0918e-01, -5.2139e-01,  ..., -3.4812e-04,\n",
       "          -1.4359e+00, -2.5025e-01],\n",
       "         ...,\n",
       "         [ 1.5711e-01, -1.7145e-01,  1.0855e-01,  ...,  5.7627e-01,\n",
       "          -5.1699e-01,  1.1921e+00],\n",
       "         [-3.9778e-01,  3.9125e-01,  1.5974e-01,  ..., -6.1198e-02,\n",
       "          -4.6742e-01, -1.1781e+00],\n",
       "         [ 5.5156e-01,  5.9117e-01, -9.8318e-02,  ..., -1.3501e-01,\n",
       "           2.2698e-01,  2.6609e-01]],\n",
       "\n",
       "        [[-3.0617e-01,  1.1225e+00, -6.4980e-01,  ..., -1.0952e+00,\n",
       "           1.6681e-01, -2.6568e-01],\n",
       "         [-2.7932e-01, -1.4630e-01, -5.8973e-02,  ...,  7.0725e-01,\n",
       "           3.6745e-01, -9.5850e-01],\n",
       "         [ 2.9291e-01,  4.0856e-01,  1.0194e-01,  ...,  2.4314e-01,\n",
       "           2.8869e-01, -2.7344e-01],\n",
       "         ...,\n",
       "         [ 2.2590e-01, -4.9666e-01,  7.6454e-01,  ..., -2.7924e-01,\n",
       "          -6.1477e-01,  1.7703e-02],\n",
       "         [-1.5497e-01,  1.8979e-01,  4.5852e-02,  ..., -5.8163e-01,\n",
       "           4.0830e-01,  2.3164e-01],\n",
       "         [ 1.0240e-01,  1.0102e-01,  6.4264e-02,  ...,  8.9423e-03,\n",
       "          -2.4383e-01, -7.5357e-02]],\n",
       "\n",
       "        [[ 1.0543e+00,  8.0890e-01,  1.6479e-01,  ..., -1.1012e-01,\n",
       "          -4.0722e-01, -6.7770e-02],\n",
       "         [-1.5122e-01, -1.3276e-01, -1.1261e-01,  ...,  5.3340e-01,\n",
       "          -1.0571e+00,  4.1156e-01],\n",
       "         [ 1.3862e-01, -4.3877e-01, -3.5795e-01,  ..., -1.0165e+00,\n",
       "          -5.6130e-02,  1.8143e-01],\n",
       "         ...,\n",
       "         [-2.5269e-02, -3.4964e-02,  3.4416e-01,  ..., -3.3786e-01,\n",
       "           4.8206e-01, -3.4960e-02],\n",
       "         [ 9.3427e-02, -1.8286e-01,  7.3133e-02,  ...,  8.4986e-01,\n",
       "          -1.5854e-01, -1.8433e-01],\n",
       "         [-4.4788e-01, -5.7257e-01, -4.8279e-01,  ...,  3.2899e-01,\n",
       "           1.1165e+00,  7.0570e-01]],\n",
       "\n",
       "        ...,\n",
       "\n",
       "        [[ 4.5110e-01,  6.5640e-02, -8.4075e-01,  ..., -2.9316e-01,\n",
       "           3.1429e-01,  1.0566e-02],\n",
       "         [ 4.3522e-01,  4.8678e-02,  8.2864e-01,  ...,  4.4274e-01,\n",
       "           2.4720e-01,  1.5877e+00],\n",
       "         [-4.6224e-01, -1.1783e-01, -2.6275e-01,  ...,  1.3535e-01,\n",
       "           9.6929e-02, -7.6221e-02],\n",
       "         ...,\n",
       "         [-1.9616e-01, -6.1285e-01, -9.6356e-04,  ..., -1.2526e-01,\n",
       "           8.5508e-01,  2.8293e-03],\n",
       "         [ 1.8873e-02, -1.5051e+00,  1.8434e-01,  ..., -4.6244e-01,\n",
       "           3.9027e-01, -5.6062e-01],\n",
       "         [ 2.8575e-01,  4.4258e-01,  1.5266e-01,  ..., -5.7761e-02,\n",
       "           6.0884e-01,  1.0437e+00]],\n",
       "\n",
       "        [[-3.3313e-01,  1.7712e-01,  4.5258e-02,  ..., -2.8939e-01,\n",
       "          -2.0980e-01, -5.6459e-01],\n",
       "         [-9.6018e-01,  4.6266e-01, -6.9094e-02,  ..., -2.3866e-03,\n",
       "          -1.3470e+00,  2.4531e-01],\n",
       "         [-1.8171e-01, -1.6575e-02, -1.8712e-01,  ...,  7.4311e-02,\n",
       "           1.1273e-01,  4.8032e-01],\n",
       "         ...,\n",
       "         [ 3.9913e-01, -1.1767e-01, -9.4695e-02,  ..., -1.9281e-02,\n",
       "           4.2008e-03,  3.5962e-02],\n",
       "         [-4.7737e-01, -7.5889e-02,  3.0264e-01,  ...,  4.2094e-01,\n",
       "          -1.3500e-01, -3.1900e-01],\n",
       "         [ 1.1095e-02,  3.7519e-01,  1.4271e-01,  ..., -7.5376e-02,\n",
       "           3.3175e-01, -1.6283e-01]],\n",
       "\n",
       "        [[ 2.3569e-01, -4.6944e-01, -1.3927e-01,  ..., -7.0760e-01,\n",
       "          -2.0026e-02, -1.9240e-01],\n",
       "         [ 8.7370e-02, -6.0523e-02,  7.8823e-01,  ..., -1.0073e-01,\n",
       "          -2.9526e-01,  6.6359e-01],\n",
       "         [-1.2884e-01, -2.0670e-01,  6.1426e-01,  ...,  4.1417e-01,\n",
       "          -3.8539e-01,  1.8937e-01],\n",
       "         ...,\n",
       "         [-1.0307e-01, -4.7353e-02, -2.9778e-01,  ..., -3.7224e-04,\n",
       "           3.0023e-01,  5.7381e-01],\n",
       "         [-4.9912e-01, -3.8302e-02,  8.7878e-02,  ...,  3.8569e-01,\n",
       "           1.8257e-01,  3.4775e-01],\n",
       "         [-1.6199e-01,  5.2472e-01,  3.1760e-01,  ..., -1.8628e-01,\n",
       "           3.2137e-01,  5.7319e-01]]], grad_fn=<AddBackward0>)"
      ]
     },
     "execution_count": 12,
     "metadata": {},
     "output_type": "execute_result"
    }
   ],
   "source": [
    "ltm"
   ]
  },
  {
   "cell_type": "code",
   "execution_count": null,
   "id": "e1cdfefb-ba68-4862-9a85-b130c4ab8b90",
   "metadata": {},
   "outputs": [],
   "source": []
  }
 ],
 "metadata": {
  "kernelspec": {
   "display_name": "Python 3 (ipykernel)",
   "language": "python",
   "name": "python3"
  },
  "language_info": {
   "codemirror_mode": {
    "name": "ipython",
    "version": 3
   },
   "file_extension": ".py",
   "mimetype": "text/x-python",
   "name": "python",
   "nbconvert_exporter": "python",
   "pygments_lexer": "ipython3",
   "version": "3.11.5"
  }
 },
 "nbformat": 4,
 "nbformat_minor": 5
}
