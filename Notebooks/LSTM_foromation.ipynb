{
 "cells": [
  {
   "cell_type": "code",
   "execution_count": 8,
   "id": "74b3213d-1add-46ae-9e66-97b51888d5c8",
   "metadata": {},
   "outputs": [],
   "source": [
    "import torch\n",
    "from torch import nn"
   ]
  },
  {
   "cell_type": "code",
   "execution_count": 4,
   "id": "154a1e34-f834-4708-82db-e9e797e0b76d",
   "metadata": {},
   "outputs": [],
   "source": [
    "tensor1=torch.rand((3,3))\n",
    "tensor2=torch.rand((3,3))"
   ]
  },
  {
   "cell_type": "code",
   "execution_count": 5,
   "id": "722c3012-7692-43ca-a1fd-14bd28e4cde7",
   "metadata": {},
   "outputs": [
    {
     "data": {
      "text/plain": [
       "tensor([[0.5134, 0.2053, 0.5163],\n",
       "        [0.8513, 0.1882, 0.2458],\n",
       "        [0.7266, 0.1816, 0.8688]])"
      ]
     },
     "execution_count": 5,
     "metadata": {},
     "output_type": "execute_result"
    }
   ],
   "source": [
    "tensor1"
   ]
  },
  {
   "cell_type": "code",
   "execution_count": 6,
   "id": "4d6f22f5-9c83-4f80-89e9-83bc59ee46b3",
   "metadata": {},
   "outputs": [
    {
     "data": {
      "text/plain": [
       "tensor([[0.7545, 0.4949, 0.2371],\n",
       "        [0.9569, 0.0753, 0.2499],\n",
       "        [0.6166, 0.7483, 0.3898]])"
      ]
     },
     "execution_count": 6,
     "metadata": {},
     "output_type": "execute_result"
    }
   ],
   "source": [
    "tensor2"
   ]
  },
  {
   "cell_type": "code",
   "execution_count": 7,
   "id": "b6e6d9ea-02ba-4a2e-b9d9-af16e3a132b1",
   "metadata": {},
   "outputs": [
    {
     "data": {
      "text/plain": [
       "tensor([[0.3873, 0.1016, 0.1224],\n",
       "        [0.8146, 0.0142, 0.0614],\n",
       "        [0.4481, 0.1359, 0.3387]])"
      ]
     },
     "execution_count": 7,
     "metadata": {},
     "output_type": "execute_result"
    }
   ],
   "source": [
    "tensor1*tensor2"
   ]
  },
  {
   "cell_type": "markdown",
   "id": "813e1b79-525d-4080-bf45-ec3749312576",
   "metadata": {},
   "source": [
    "#### LTR => Long-Term to remember\n",
    "#### STM => Short Term Memory\n",
    "#### LTM => Long Term Memory"
   ]
  },
  {
   "cell_type": "code",
   "execution_count": 86,
   "id": "137f3aa7-c371-4623-b6b3-eec024fe8775",
   "metadata": {},
   "outputs": [],
   "source": [
    "class NDIM_LSTM(nn.Module):\n",
    "    \n",
    "    def __init__(self,size):\n",
    "        super().__init__()\n",
    "\n",
    "        self.percent_ltr_input=nn.Parameter(torch.empty(size).normal_(mean=0.0,std=1.0),requires_grad=True)\n",
    "        self.percent_ltr_stm_wt=nn.Parameter(torch.empty(size).normal_(mean=0.0,std=1.0),requires_grad=True)\n",
    "        self.b1=nn.Parameter(torch.tensor(0.),requires_grad=False)\n",
    "\n",
    "        self.percent_potential_ltm_stm_wt=nn.Parameter(torch.empty(size).normal_(mean=0.0,std=1.0),requires_grad=True)\n",
    "        self.percent_potential_ltm_input=nn.Parameter(torch.empty(size).normal_(mean=0.0,std=1.0),requires_grad=True)\n",
    "        self.b2=nn.Parameter(torch.tensor(0.),requires_grad=False)\n",
    "        \n",
    "        self.potential_ltm_stm_wt=nn.Parameter(torch.empty(size).normal_(mean=0.0,std=1.0),requires_grad=True)\n",
    "        self.potential_ltm_input=nn.Parameter(torch.empty(size).normal_(mean=0.0,std=1.0),requires_grad=True)\n",
    "        self.b3=nn.Parameter(torch.tensor(0.),requires_grad=False)\n",
    "        \n",
    "        self.output_stm_contri_stm_wt=nn.Parameter(torch.empty(size).normal_(mean=0.0,std=1.0),requires_grad=True)\n",
    "        self.output_stm_contri_input=nn.Parameter(torch.empty(size).normal_(mean=0.0,std=1.0),requires_grad=True)\n",
    "        self.b4=nn.Parameter(torch.tensor(0.),requires_grad=False)\n",
    "\n",
    "    def lstm_unit(self,input_value,long_memory,short_memory):\n",
    "        \n",
    "        long_remember_percent=torch.sigmoid((input_value*self.percent_ltr_input)+\n",
    "                                            (self.percent_ltr_stm_wt*short_memory)+\n",
    "                                            self.b1)\n",
    "        \n",
    "        potential_remember_percent=torch.sigmoid((input_value*self.percent_potential_ltm_input)+\n",
    "                                                 (short_memory*self.percent_potential_ltm_stm_wt)+\n",
    "                                                  self.b2)\n",
    "\n",
    "        potential_memory = torch.tanh((short_memory * self.potential_ltm_stm_wt) + \n",
    "                                  (input_value * self.potential_ltm_input) + \n",
    "                                  self.b3)\n",
    "        \n",
    "        updated_long_memory = ((long_memory * long_remember_percent) + \n",
    "               (potential_remember_percent * potential_memory))\n",
    "\n",
    "        output_percent = torch.sigmoid((short_memory * self.output_stm_contri_stm_wt) + \n",
    "                                       (input_value * self.output_stm_contri_input) + \n",
    "                                       self.b4)         \n",
    "        \n",
    "        updated_short_memory = torch.tanh(updated_long_memory) * output_percent\n",
    "\n",
    "        return([updated_long_memory, updated_short_memory])\n",
    "\n",
    "    def forward(self, input, long_memory=0, short_memory=0): \n",
    "        \n",
    "        return self.lstm_unit(input,long_memory,short_memory)"
   ]
  },
  {
   "cell_type": "code",
   "execution_count": 94,
   "id": "6cd88e8b-8fe1-443d-9b41-60e34cc7f63e",
   "metadata": {},
   "outputs": [],
   "source": [
    "input_test=torch.rand((5,64,64,64))"
   ]
  },
  {
   "cell_type": "code",
   "execution_count": 95,
   "id": "dd486434-831e-4fe7-a4ea-05a8250970ca",
   "metadata": {},
   "outputs": [],
   "source": [
    "model=NDIM_LSTM((64,64,64))"
   ]
  },
  {
   "cell_type": "code",
   "execution_count": 96,
   "id": "0d667a69-ada6-4819-8b49-3c98df034299",
   "metadata": {},
   "outputs": [
    {
     "name": "stdout",
     "output_type": "stream",
     "text": [
      "torch.Size([64, 64, 64]) torch.Size([64, 64, 64])\n",
      "torch.Size([64, 64, 64]) torch.Size([64, 64, 64])\n",
      "torch.Size([64, 64, 64]) torch.Size([64, 64, 64])\n",
      "torch.Size([64, 64, 64]) torch.Size([64, 64, 64])\n",
      "torch.Size([64, 64, 64]) torch.Size([64, 64, 64])\n"
     ]
    }
   ],
   "source": [
    "ltm=0\n",
    "stm=0\n",
    "for i in input_test:\n",
    "    ltm,stm=model(i,ltm,stm)\n",
    "    print(stm.detach().shape, ltm.detach().shape)"
   ]
  },
  {
   "cell_type": "code",
   "execution_count": null,
   "id": "896e1f76-375c-4759-b800-a0ccf0e3756b",
   "metadata": {},
   "outputs": [],
   "source": []
  }
 ],
 "metadata": {
  "kernelspec": {
   "display_name": "Python 3 (ipykernel)",
   "language": "python",
   "name": "python3"
  },
  "language_info": {
   "codemirror_mode": {
    "name": "ipython",
    "version": 3
   },
   "file_extension": ".py",
   "mimetype": "text/x-python",
   "name": "python",
   "nbconvert_exporter": "python",
   "pygments_lexer": "ipython3",
   "version": "3.11.5"
  }
 },
 "nbformat": 4,
 "nbformat_minor": 5
}
