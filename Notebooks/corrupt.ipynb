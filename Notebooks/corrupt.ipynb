{
 "cells": [
  {
   "cell_type": "code",
   "execution_count": 11,
   "id": "2f11dfc4-dbe0-4097-9693-7f6cf29e5af2",
   "metadata": {},
   "outputs": [],
   "source": [
    "import os\n",
    "from PIL import Image\n",
    "import shutil\n",
    "\n",
    "image_path=\"../Dataset/ds/bukonohero/colored/\""
   ]
  },
  {
   "cell_type": "code",
   "execution_count": 12,
   "id": "ec7c0ed6-3b31-4730-a5cc-30ca422fd4ee",
   "metadata": {},
   "outputs": [],
   "source": [
    "images=os.listdir(image_path)"
   ]
  },
  {
   "cell_type": "code",
   "execution_count": 13,
   "id": "8c3e13c6-1656-43eb-b0ad-1c6f4bae4845",
   "metadata": {},
   "outputs": [
    {
     "data": {
      "text/plain": [
       "1051"
      ]
     },
     "execution_count": 13,
     "metadata": {},
     "output_type": "execute_result"
    }
   ],
   "source": [
    "len(images)"
   ]
  },
  {
   "cell_type": "code",
   "execution_count": 14,
   "id": "49908c6c-84eb-4701-bb52-e56655e606eb",
   "metadata": {},
   "outputs": [],
   "source": [
    "to_rm=[]"
   ]
  },
  {
   "cell_type": "code",
   "execution_count": 19,
   "id": "a304de61-6950-4382-bf7a-456e2c6ed081",
   "metadata": {
    "scrolled": true
   },
   "outputs": [
    {
     "name": "stdout",
     "output_type": "stream",
     "text": [
      "500\n",
      "1000\n"
     ]
    }
   ],
   "source": [
    "count=0\n",
    "for i in images:\n",
    "    if(\".ipynb_checkpoints\" in i):\n",
    "        \n",
    "        shutil.rmtree(f\"{image_path}/\"+i)\n",
    "        continue\n",
    "    try:\n",
    "        Image.open(f\"{image_path}/\"+i)\n",
    "        count+=1\n",
    "        if(count%500==0):\n",
    "            print(count)\n",
    "    except Exception as e:\n",
    "        to_rm.append(f\"{image_path}/\"+i)\n",
    "        os.remove(f\"{image_path}/\"+i)"
   ]
  },
  {
   "cell_type": "code",
   "execution_count": 20,
   "id": "90f7e9a0-cfdc-4c52-b6ba-1a1accdd9f15",
   "metadata": {},
   "outputs": [
    {
     "data": {
      "text/plain": [
       "1"
      ]
     },
     "execution_count": 20,
     "metadata": {},
     "output_type": "execute_result"
    }
   ],
   "source": [
    "len(to_rm)"
   ]
  },
  {
   "cell_type": "code",
   "execution_count": null,
   "id": "f3646d87-2218-4ca8-bef0-95eefbc88d7e",
   "metadata": {},
   "outputs": [],
   "source": []
  },
  {
   "cell_type": "code",
   "execution_count": 5,
   "id": "bf5e1d8d-6862-4e65-88a4-9ebd1625cbd9",
   "metadata": {},
   "outputs": [
    {
     "data": {
      "text/plain": [
       "0"
      ]
     },
     "execution_count": 5,
     "metadata": {},
     "output_type": "execute_result"
    }
   ],
   "source": [
    "count"
   ]
  },
  {
   "cell_type": "code",
   "execution_count": 24,
   "id": "fcdebdd5-a763-407d-8146-c16ba16db876",
   "metadata": {},
   "outputs": [],
   "source": [
    "subset=images[-1000:]"
   ]
  },
  {
   "cell_type": "code",
   "execution_count": 27,
   "id": "92283eec-a632-47ac-9525-0022f06810d8",
   "metadata": {},
   "outputs": [],
   "source": [
    "for i in subset:\n",
    "    shutil.move(\"../Dataset/subset_2/color1/\"+i,\"../Dataset/subset_2/color1_test/\")"
   ]
  },
  {
   "cell_type": "code",
   "execution_count": null,
   "id": "6e5b1853-bfcc-46ca-9d2e-8be36701071b",
   "metadata": {},
   "outputs": [],
   "source": []
  }
 ],
 "metadata": {
  "kernelspec": {
   "display_name": "Python 3 (ipykernel)",
   "language": "python",
   "name": "python3"
  },
  "language_info": {
   "codemirror_mode": {
    "name": "ipython",
    "version": 3
   },
   "file_extension": ".py",
   "mimetype": "text/x-python",
   "name": "python",
   "nbconvert_exporter": "python",
   "pygments_lexer": "ipython3",
   "version": "3.11.5"
  }
 },
 "nbformat": 4,
 "nbformat_minor": 5
}
