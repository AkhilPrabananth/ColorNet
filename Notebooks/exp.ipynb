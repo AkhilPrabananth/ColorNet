{
 "cells": [
  {
   "cell_type": "code",
   "execution_count": 1,
   "metadata": {},
   "outputs": [],
   "source": [
    "import os.path as osp\n",
    "import pickle\n",
    "import random\n",
    "\n",
    "import cv2\n",
    "import numpy as np\n",
    "import torch\n",
    "\n",
    "import lmdb\n",
    "import os\n",
    "\n",
    "import numpy as np\n",
    "from torch.utils.data import Dataset\n",
    "import glob\n",
    "\n"
   ]
  },
  {
   "cell_type": "code",
   "execution_count": 36,
   "metadata": {},
   "outputs": [],
   "source": [
    "def create_lmdb(dataset, raw_dir, lmdb_dir, filter_file=''):\n",
    "    print(f'>> Start to create lmdb for {dataset}')\n",
    "\n",
    "    # scan dir\n",
    "    if filter_file:  # use sequences specified by the filter_file\n",
    "        with open(filter_file, 'r') as f:\n",
    "            seq_idx_lst = sorted([line.strip() for line in f])\n",
    "    else:  # use all found sequences\n",
    "        seq_idx_lst = sorted(os.listdir(raw_dir))\n",
    "        \n",
    "    #print(seq_idx_lst)\n",
    "\n",
    "    num_seq = len(seq_idx_lst)\n",
    "    print(f'>> Number of sequences: {num_seq}')\n",
    "\n",
    "    # compute space to be allocated\n",
    "    nbytes = 0\n",
    "    for seq_idx in seq_idx_lst:\n",
    "        frm_path_lst = sorted(glob.glob(osp.join(raw_dir, seq_idx, '*.png')))\n",
    "        \n",
    "        nbytes_per_frm = cv2.imread(frm_path_lst[0], cv2.IMREAD_UNCHANGED).nbytes\n",
    "        nbytes += len(frm_path_lst) * nbytes_per_frm\n",
    "    alloc_size = round(2 * nbytes)\n",
    "    print(f'>> Space required for lmdb generation: {alloc_size / (1 << 30):.2f} GB')\n",
    "    \n",
    "    \n",
    "\n",
    "    # create lmdb environment\n",
    "    env = lmdb.open(lmdb_dir, map_size=alloc_size)\n",
    "\n",
    "    # write data to lmdb\n",
    "    commit_freq = 5\n",
    "    keys = []\n",
    "    txn = env.begin(write=True)\n",
    "    for b, seq_idx in enumerate(seq_idx_lst):\n",
    "        # log\n",
    "        print(f'   Processing sequence: {seq_idx} ({b + 1}/{num_seq})\\r', end='')\n",
    "\n",
    "        # get info\n",
    "        frm_path_lst = sorted(glob.glob(osp.join(raw_dir, seq_idx, '*.png')))\n",
    "        n_frm = len(frm_path_lst)\n",
    "\n",
    "        # read frames\n",
    "        for i in range(n_frm):\n",
    "            frm = cv2.imread(frm_path_lst[i], cv2.IMREAD_UNCHANGED)\n",
    "            frm = np.ascontiguousarray(frm[..., ::-1])  # hwc|rgb|uint8\n",
    "\n",
    "            h, w, c = frm.shape\n",
    "            key = f'{seq_idx}_{n_frm}x{h}x{w}_{i:04d}'\n",
    "\n",
    "            txn.put(key.encode('ascii'), frm)\n",
    "            keys.append(key)\n",
    "\n",
    "        # commit\n",
    "        if b % commit_freq == 0:\n",
    "            txn.commit()\n",
    "            txn = env.begin(write=True)\n",
    "\n",
    "    txn.commit()\n",
    "    env.close()\n",
    "\n",
    "    # create meta information\n",
    "    meta_info = {\n",
    "        'name': dataset,\n",
    "        'color': 'RGB',\n",
    "        'keys': keys\n",
    "    }\n",
    "    pickle.dump(meta_info, open(osp.join(lmdb_dir, 'meta_info.pkl'), 'wb'))\n",
    "\n",
    "    print(f'>> Finished lmdb generation for {dataset}')\n",
    "\n"
   ]
  },
  {
   "cell_type": "code",
   "execution_count": 37,
   "metadata": {},
   "outputs": [
    {
     "name": "stdout",
     "output_type": "stream",
     "text": [
      ">> Start to create lmdb for AMD\n",
      ">> Number of sequences: 298\n",
      ">> Space required for lmdb generation: 174.89 GB\n",
      ">> Finished lmdb generation for AMD8/298))8))\n"
     ]
    }
   ],
   "source": [
    "create_lmdb('AMD','/media/moose/Moose/Dataset/AMD/outputNew/output/','/media/moose/Moose/Dataset/AMD/')"
   ]
  },
  {
   "cell_type": "code",
   "execution_count": null,
   "metadata": {},
   "outputs": [],
   "source": []
  }
 ],
 "metadata": {
  "kernelspec": {
   "display_name": "torch",
   "language": "python",
   "name": "python3"
  },
  "language_info": {
   "codemirror_mode": {
    "name": "ipython",
    "version": 3
   },
   "file_extension": ".py",
   "mimetype": "text/x-python",
   "name": "python",
   "nbconvert_exporter": "python",
   "pygments_lexer": "ipython3",
   "version": "3.11.5"
  }
 },
 "nbformat": 4,
 "nbformat_minor": 2
}
